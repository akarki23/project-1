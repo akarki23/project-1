{
 "cells": [
  {
   "cell_type": "code",
   "execution_count": 92,
   "metadata": {},
   "outputs": [],
   "source": [
    "# Dependencies and Setup\n",
    "import matplotlib.pyplot as plt\n",
    "import pandas as pd\n",
    "import numpy as np\n",
    "import requests\n",
    "\n",
    "\n",
    "\n",
    "personal_data=requests.get('https://api.bjs.ojp.gov/bjs/ncvs/v2/personal/2018?format=json').json()\n",
    "household_data=requests.get('https://api.bjs.ojp.gov/bjs/ncvs/v2/household/2018?format=json').json()\n"
   ]
  },
  {
   "cell_type": "code",
   "execution_count": 93,
   "metadata": {},
   "outputs": [],
   "source": [
    "url = \"https://api.bjs.ojp.gov/bjs/ncvs/v2/personal/\"\n",
    "\n",
    "year_list = [\"2014\", \"2015\", \"2016\", \"2017\", \"2018\"]\n",
    "\n",
    "# Set empty lists to hold personal data\n",
    "weight = []\n",
    "ager = []\n",
    "gender = []\n",
    "hincome = []\n",
    "newcrime = []\n",
    "locationr = []\n",
    "years = []\n",
    "region=[]\n",
    "notify=[]\n",
    "\n",
    "# Loop through each year\n",
    "for year in year_list:\n",
    "\n",
    "    # Create search query, make a request and store in JSON file\n",
    "    query = url + year + \"?format=json\" \n",
    "    response = requests.get(query)\n",
    "    response_json = response.json()\n",
    "    \n",
    "    data_list = response_json[\"personalData\"]\n",
    "  \n",
    "    for data in data_list:\n",
    "        \n",
    "        try: \n",
    "            region.append(data['region'])\n",
    "            years.append(data['year'])\n",
    "            weight.append(data['weight'])\n",
    "            ager.append(data['ager'])\n",
    "            notify.append(data['notify'])\n",
    "            gender.append(data['gender'])\n",
    "            hincome.append(data['hincome'])\n",
    "            newcrime.append(data['newoff'])\n",
    "            locationr.append(data['locationr'])\n",
    "        except Exception:\n",
    "            print(data)"
   ]
  },
  {
   "cell_type": "code",
   "execution_count": 94,
   "metadata": {},
   "outputs": [
    {
     "data": {
      "text/html": [
       "<div>\n",
       "<style scoped>\n",
       "    .dataframe tbody tr th:only-of-type {\n",
       "        vertical-align: middle;\n",
       "    }\n",
       "\n",
       "    .dataframe tbody tr th {\n",
       "        vertical-align: top;\n",
       "    }\n",
       "\n",
       "    .dataframe thead th {\n",
       "        text-align: right;\n",
       "    }\n",
       "</style>\n",
       "<table border=\"1\" class=\"dataframe\">\n",
       "  <thead>\n",
       "    <tr style=\"text-align: right;\">\n",
       "      <th></th>\n",
       "      <th>region</th>\n",
       "      <th>file report</th>\n",
       "      <th>year</th>\n",
       "      <th>weight</th>\n",
       "      <th>ager</th>\n",
       "      <th>gender</th>\n",
       "      <th>hincome</th>\n",
       "      <th>newcrime</th>\n",
       "      <th>locationr</th>\n",
       "    </tr>\n",
       "  </thead>\n",
       "  <tbody>\n",
       "    <tr>\n",
       "      <th>0</th>\n",
       "      <td>3</td>\n",
       "      <td>1</td>\n",
       "      <td>2014</td>\n",
       "      <td>2877.2646</td>\n",
       "      <td>5</td>\n",
       "      <td>2</td>\n",
       "      <td>4</td>\n",
       "      <td>1</td>\n",
       "      <td>2</td>\n",
       "    </tr>\n",
       "    <tr>\n",
       "      <th>1</th>\n",
       "      <td>3</td>\n",
       "      <td>2</td>\n",
       "      <td>2014</td>\n",
       "      <td>4079.9336</td>\n",
       "      <td>4</td>\n",
       "      <td>1</td>\n",
       "      <td>88</td>\n",
       "      <td>3</td>\n",
       "      <td>3</td>\n",
       "    </tr>\n",
       "    <tr>\n",
       "      <th>2</th>\n",
       "      <td>3</td>\n",
       "      <td>1</td>\n",
       "      <td>2014</td>\n",
       "      <td>5984.119</td>\n",
       "      <td>4</td>\n",
       "      <td>2</td>\n",
       "      <td>88</td>\n",
       "      <td>3</td>\n",
       "      <td>2</td>\n",
       "    </tr>\n",
       "    <tr>\n",
       "      <th>3</th>\n",
       "      <td>3</td>\n",
       "      <td>2</td>\n",
       "      <td>2014</td>\n",
       "      <td>3271.8376</td>\n",
       "      <td>6</td>\n",
       "      <td>1</td>\n",
       "      <td>4</td>\n",
       "      <td>3</td>\n",
       "      <td>5</td>\n",
       "    </tr>\n",
       "    <tr>\n",
       "      <th>4</th>\n",
       "      <td>3</td>\n",
       "      <td>1</td>\n",
       "      <td>2014</td>\n",
       "      <td>3402.2559</td>\n",
       "      <td>6</td>\n",
       "      <td>1</td>\n",
       "      <td>88</td>\n",
       "      <td>4</td>\n",
       "      <td>1</td>\n",
       "    </tr>\n",
       "  </tbody>\n",
       "</table>\n",
       "</div>"
      ],
      "text/plain": [
       "  region file report  year     weight ager gender hincome newcrime locationr\n",
       "0      3           1  2014  2877.2646    5      2       4        1         2\n",
       "1      3           2  2014  4079.9336    4      1      88        3         3\n",
       "2      3           1  2014   5984.119    4      2      88        3         2\n",
       "3      3           2  2014  3271.8376    6      1       4        3         5\n",
       "4      3           1  2014  3402.2559    6      1      88        4         1"
      ]
     },
     "execution_count": 94,
     "metadata": {},
     "output_type": "execute_result"
    }
   ],
   "source": [
    "#Create a dataframe\n",
    "ncvs = pd.DataFrame({\n",
    "    \"region\":region,\n",
    "    \"file report\":notify,\n",
    "    \"year\": years,\n",
    "    \"weight\": weight,\n",
    "    \"ager\": ager,\n",
    "    \"gender\": gender,\n",
    "    \"hincome\": hincome,\n",
    "    \"newcrime\":newcrime,\n",
    "    \"locationr\": locationr})\n",
    "\n",
    "ncvs.head()\n"
   ]
  },
  {
   "cell_type": "code",
   "execution_count": 95,
   "metadata": {},
   "outputs": [
    {
     "data": {
      "text/html": [
       "<div>\n",
       "<style scoped>\n",
       "    .dataframe tbody tr th:only-of-type {\n",
       "        vertical-align: middle;\n",
       "    }\n",
       "\n",
       "    .dataframe tbody tr th {\n",
       "        vertical-align: top;\n",
       "    }\n",
       "\n",
       "    .dataframe thead th {\n",
       "        text-align: right;\n",
       "    }\n",
       "</style>\n",
       "<table border=\"1\" class=\"dataframe\">\n",
       "  <thead>\n",
       "    <tr style=\"text-align: right;\">\n",
       "      <th></th>\n",
       "      <th>region</th>\n",
       "      <th>file report</th>\n",
       "      <th>year</th>\n",
       "      <th>weight</th>\n",
       "      <th>age</th>\n",
       "      <th>gender</th>\n",
       "      <th>income</th>\n",
       "      <th>crime type</th>\n",
       "      <th>location</th>\n",
       "    </tr>\n",
       "  </thead>\n",
       "  <tbody>\n",
       "    <tr>\n",
       "      <th>0</th>\n",
       "      <td>South</td>\n",
       "      <td>Yes</td>\n",
       "      <td>2014</td>\n",
       "      <td>2877.2646</td>\n",
       "      <td>25-34</td>\n",
       "      <td>Female</td>\n",
       "      <td>25k-34.9k</td>\n",
       "      <td>Rape/sexual assault</td>\n",
       "      <td>friend/neighbor/relative's home</td>\n",
       "    </tr>\n",
       "    <tr>\n",
       "      <th>1</th>\n",
       "      <td>South</td>\n",
       "      <td>No</td>\n",
       "      <td>2014</td>\n",
       "      <td>4079.9336</td>\n",
       "      <td>21-24</td>\n",
       "      <td>Male</td>\n",
       "      <td>Unknown</td>\n",
       "      <td>Aggravated assault</td>\n",
       "      <td>com/parking lot or public</td>\n",
       "    </tr>\n",
       "    <tr>\n",
       "      <th>2</th>\n",
       "      <td>South</td>\n",
       "      <td>Yes</td>\n",
       "      <td>2014</td>\n",
       "      <td>5984.119</td>\n",
       "      <td>21-24</td>\n",
       "      <td>Female</td>\n",
       "      <td>Unknown</td>\n",
       "      <td>Aggravated assault</td>\n",
       "      <td>friend/neighbor/relative's home</td>\n",
       "    </tr>\n",
       "    <tr>\n",
       "      <th>3</th>\n",
       "      <td>South</td>\n",
       "      <td>No</td>\n",
       "      <td>2014</td>\n",
       "      <td>3271.8376</td>\n",
       "      <td>35-49</td>\n",
       "      <td>Male</td>\n",
       "      <td>25k-34.9k</td>\n",
       "      <td>Aggravated assault</td>\n",
       "      <td>other location</td>\n",
       "    </tr>\n",
       "    <tr>\n",
       "      <th>4</th>\n",
       "      <td>South</td>\n",
       "      <td>Yes</td>\n",
       "      <td>2014</td>\n",
       "      <td>3402.2559</td>\n",
       "      <td>35-49</td>\n",
       "      <td>Male</td>\n",
       "      <td>Unknown</td>\n",
       "      <td>Simple assault</td>\n",
       "      <td>victim's home</td>\n",
       "    </tr>\n",
       "  </tbody>\n",
       "</table>\n",
       "</div>"
      ],
      "text/plain": [
       "  region file report  year     weight    age  gender     income  \\\n",
       "0  South         Yes  2014  2877.2646  25-34  Female  25k-34.9k   \n",
       "1  South          No  2014  4079.9336  21-24    Male    Unknown   \n",
       "2  South         Yes  2014   5984.119  21-24  Female    Unknown   \n",
       "3  South          No  2014  3271.8376  35-49    Male  25k-34.9k   \n",
       "4  South         Yes  2014  3402.2559  35-49    Male    Unknown   \n",
       "\n",
       "            crime type                          location  \n",
       "0  Rape/sexual assault   friend/neighbor/relative's home  \n",
       "1   Aggravated assault         com/parking lot or public  \n",
       "2   Aggravated assault   friend/neighbor/relative's home  \n",
       "3   Aggravated assault                    other location  \n",
       "4       Simple assault                     victim's home  "
      ]
     },
     "execution_count": 95,
     "metadata": {},
     "output_type": "execute_result"
    }
   ],
   "source": [
    "#Replacing column numerical values into readdable data as pe rhte values assigned in the Personal Crime  API\n",
    "\n",
    "ncvs['ager'] = ncvs['ager'].replace({\"1\":\"12-14\",\n",
    "        \"2\":\"15-17\",\n",
    "        \"3\": \"18-20\",\n",
    "        \"4\": \"21-24\",                         \n",
    "        \"5\": \"25-34\",\n",
    "        \"6\": \"35-49\",\n",
    "        \"7\": \"50-64\",                         \n",
    "        \"8\": \"65+\"})\n",
    "\n",
    "ncvs['gender'] = ncvs['gender'].replace({\"1\":\"Male\",\n",
    "        \"2\":\"Female\"})\n",
    "\n",
    "\n",
    "ncvs['region'] = ncvs['region'].replace({\"1\":\"NorthEast\",\n",
    "        \"2\": \"MidWest\",\n",
    "        \"3\": \"South\",\n",
    "        \"4\": \"West\"})\n",
    "\n",
    "ncvs['file report'] = ncvs['file report'].replace({\"1\":\"Yes\",\n",
    "        \"2\": \"No\",\n",
    "        \"3\": \"Do not know\"})\n",
    "\n",
    "\n",
    "\n",
    "ncvs['hincome'] = ncvs['hincome'].replace({\"1\":\"<7.5k\",\n",
    "        \"2\": \"7.5k-14.9k\",\n",
    "        \"3\": \"15k-24.9k\",\n",
    "        \"4\": \"25k-34.9k\",\n",
    "        \"5\": \"35k-49.9k\",\n",
    "        \"6\": \"50k-74.9k\",\n",
    "        \"7\": \"75k+\",\n",
    "        \"88\": \"Unknown\"})\n",
    "\n",
    "ncvs['locationr'] = ncvs['locationr'].replace({\"1\":\"victim's home\",\n",
    "        \"2\": \" friend/neighbor/relative's home\",\n",
    "        \"3\": \"com/parking lot or public\",\n",
    "        \"4\": \"school\",\n",
    "        \"5\": \"other location\"})\n",
    "\n",
    "ncvs['newcrime'] = ncvs['newcrime'].replace({\"1\":\"Rape/sexual assault\",\n",
    "        \"2\": \"Robbery\",\n",
    "        \"3\": \"Aggravated assault\",\n",
    "        \"4\": \"Simple assault\",\n",
    "        \"5\": \"Personal theft\"})\n",
    "\n",
    "ncvs = ncvs.rename(columns = {'ager': 'age', 'hincome': 'income', \n",
    "                     'newcrime': 'crime type', 'locationr': 'location'})\n",
    "\n",
    "ncvs.head()\n"
   ]
  },
  {
   "cell_type": "code",
   "execution_count": 96,
   "metadata": {},
   "outputs": [],
   "source": [
    "#Set url for Household Crimes  API\n",
    "url = \"https://api.bjs.ojp.gov/bjs/ncvs/v2/household/\"\n",
    "\n",
    "# Set empty lists to hold data\n",
    "weight_h =[]\n",
    "ager_h = []\n",
    "gender_h = []\n",
    "hincome_h = []\n",
    "newcrime_h = []\n",
    "locationr_h = []\n",
    "years_h = []\n",
    "region_h=[]\n",
    "notify_h=[]\n",
    "\n",
    "\n",
    "# Loop through each year\n",
    "for year in year_list:\n",
    "\n",
    "    # Create search query, make a request and store in JSON file\n",
    "    query = url + year + \"?format=json\"\n",
    "    response = requests.get(query)\n",
    "    response_json = response.json()\n",
    "    \n",
    "    data_list=response_json[\"householdData\"]\n",
    "  \n",
    "    for data in data_list:\n",
    "        \n",
    "        try: \n",
    "            region_h.append(data['region'])\n",
    "            years_h.append(data['year'])\n",
    "            weight_h.append(data['weight'])\n",
    "            ager_h.append(data['hhage'])\n",
    "            notify_h.append(data['notify'])\n",
    "            gender_h.append(data['hhgen'])\n",
    "            hincome_h.append(data['hincome'])\n",
    "            newcrime_h.append(data['newoff'])\n",
    "            locationr_h.append(data['locationr'])\n",
    "        except Exception:\n",
    "           print(data)"
   ]
  },
  {
   "cell_type": "code",
   "execution_count": 97,
   "metadata": {},
   "outputs": [
    {
     "data": {
      "text/html": [
       "<div>\n",
       "<style scoped>\n",
       "    .dataframe tbody tr th:only-of-type {\n",
       "        vertical-align: middle;\n",
       "    }\n",
       "\n",
       "    .dataframe tbody tr th {\n",
       "        vertical-align: top;\n",
       "    }\n",
       "\n",
       "    .dataframe thead th {\n",
       "        text-align: right;\n",
       "    }\n",
       "</style>\n",
       "<table border=\"1\" class=\"dataframe\">\n",
       "  <thead>\n",
       "    <tr style=\"text-align: right;\">\n",
       "      <th></th>\n",
       "      <th>region_h</th>\n",
       "      <th>notify_h</th>\n",
       "      <th>year_h</th>\n",
       "      <th>weight_h</th>\n",
       "      <th>age_h</th>\n",
       "      <th>gender_h</th>\n",
       "      <th>hincome_h</th>\n",
       "      <th>newcrime_h</th>\n",
       "      <th>locationr_h</th>\n",
       "    </tr>\n",
       "  </thead>\n",
       "  <tbody>\n",
       "    <tr>\n",
       "      <th>0</th>\n",
       "      <td>4</td>\n",
       "      <td>1</td>\n",
       "      <td>2014</td>\n",
       "      <td>2838.076</td>\n",
       "      <td>2</td>\n",
       "      <td>2</td>\n",
       "      <td>4</td>\n",
       "      <td>6</td>\n",
       "      <td>1</td>\n",
       "    </tr>\n",
       "    <tr>\n",
       "      <th>1</th>\n",
       "      <td>4</td>\n",
       "      <td>1</td>\n",
       "      <td>2014</td>\n",
       "      <td>3188.369</td>\n",
       "      <td>4</td>\n",
       "      <td>2</td>\n",
       "      <td>7</td>\n",
       "      <td>8</td>\n",
       "      <td>3</td>\n",
       "    </tr>\n",
       "    <tr>\n",
       "      <th>2</th>\n",
       "      <td>4</td>\n",
       "      <td>2</td>\n",
       "      <td>2014</td>\n",
       "      <td>3303.2144</td>\n",
       "      <td>3</td>\n",
       "      <td>2</td>\n",
       "      <td>7</td>\n",
       "      <td>8</td>\n",
       "      <td>1</td>\n",
       "    </tr>\n",
       "    <tr>\n",
       "      <th>3</th>\n",
       "      <td>4</td>\n",
       "      <td>1</td>\n",
       "      <td>2014</td>\n",
       "      <td>3795.8252</td>\n",
       "      <td>2</td>\n",
       "      <td>1</td>\n",
       "      <td>4</td>\n",
       "      <td>8</td>\n",
       "      <td>1</td>\n",
       "    </tr>\n",
       "    <tr>\n",
       "      <th>4</th>\n",
       "      <td>4</td>\n",
       "      <td>2</td>\n",
       "      <td>2014</td>\n",
       "      <td>3044.386</td>\n",
       "      <td>3</td>\n",
       "      <td>1</td>\n",
       "      <td>1</td>\n",
       "      <td>8</td>\n",
       "      <td>1</td>\n",
       "    </tr>\n",
       "  </tbody>\n",
       "</table>\n",
       "</div>"
      ],
      "text/plain": [
       "  region_h notify_h year_h   weight_h age_h gender_h hincome_h newcrime_h  \\\n",
       "0        4        1   2014   2838.076     2        2         4          6   \n",
       "1        4        1   2014   3188.369     4        2         7          8   \n",
       "2        4        2   2014  3303.2144     3        2         7          8   \n",
       "3        4        1   2014  3795.8252     2        1         4          8   \n",
       "4        4        2   2014   3044.386     3        1         1          8   \n",
       "\n",
       "  locationr_h  \n",
       "0           1  \n",
       "1           3  \n",
       "2           1  \n",
       "3           1  \n",
       "4           1  "
      ]
     },
     "execution_count": 97,
     "metadata": {},
     "output_type": "execute_result"
    }
   ],
   "source": [
    "#Creating Dataframesfor household data\n",
    "ncvs_h = pd.DataFrame({\n",
    "    \"region_h\":region_h,\n",
    "    \"notify_h\":notify_h,\n",
    "    \"year_h\": years_h,\n",
    "    \"weight_h\": weight_h,\n",
    "    \"age_h\": ager_h,\n",
    "    \"gender_h\": gender_h,\n",
    "    \"hincome_h\": hincome_h,\n",
    "    \"newcrime_h\": newcrime_h,\n",
    "    \"locationr_h\": locationr_h})\n",
    "\n",
    "ncvs_h.head()\n"
   ]
  },
  {
   "cell_type": "code",
   "execution_count": 98,
   "metadata": {},
   "outputs": [
    {
     "data": {
      "text/html": [
       "<div>\n",
       "<style scoped>\n",
       "    .dataframe tbody tr th:only-of-type {\n",
       "        vertical-align: middle;\n",
       "    }\n",
       "\n",
       "    .dataframe tbody tr th {\n",
       "        vertical-align: top;\n",
       "    }\n",
       "\n",
       "    .dataframe thead th {\n",
       "        text-align: right;\n",
       "    }\n",
       "</style>\n",
       "<table border=\"1\" class=\"dataframe\">\n",
       "  <thead>\n",
       "    <tr style=\"text-align: right;\">\n",
       "      <th></th>\n",
       "      <th>region</th>\n",
       "      <th>file report</th>\n",
       "      <th>year</th>\n",
       "      <th>weight</th>\n",
       "      <th>age</th>\n",
       "      <th>gender</th>\n",
       "      <th>income</th>\n",
       "      <th>crime type</th>\n",
       "      <th>location</th>\n",
       "    </tr>\n",
       "  </thead>\n",
       "  <tbody>\n",
       "    <tr>\n",
       "      <th>0</th>\n",
       "      <td>West</td>\n",
       "      <td>Yes</td>\n",
       "      <td>2014</td>\n",
       "      <td>2838.076</td>\n",
       "      <td>20-34</td>\n",
       "      <td>Female</td>\n",
       "      <td>25k-34.9k</td>\n",
       "      <td>Burglary/trespassing</td>\n",
       "      <td>victim's home</td>\n",
       "    </tr>\n",
       "    <tr>\n",
       "      <th>1</th>\n",
       "      <td>West</td>\n",
       "      <td>Yes</td>\n",
       "      <td>2014</td>\n",
       "      <td>3188.369</td>\n",
       "      <td>50-64</td>\n",
       "      <td>Female</td>\n",
       "      <td>75k+</td>\n",
       "      <td>Theft</td>\n",
       "      <td>com/parking lot or public</td>\n",
       "    </tr>\n",
       "    <tr>\n",
       "      <th>2</th>\n",
       "      <td>West</td>\n",
       "      <td>No</td>\n",
       "      <td>2014</td>\n",
       "      <td>3303.2144</td>\n",
       "      <td>35-49</td>\n",
       "      <td>Female</td>\n",
       "      <td>75k+</td>\n",
       "      <td>Theft</td>\n",
       "      <td>victim's home</td>\n",
       "    </tr>\n",
       "    <tr>\n",
       "      <th>3</th>\n",
       "      <td>West</td>\n",
       "      <td>Yes</td>\n",
       "      <td>2014</td>\n",
       "      <td>3795.8252</td>\n",
       "      <td>20-34</td>\n",
       "      <td>Male</td>\n",
       "      <td>25k-34.9k</td>\n",
       "      <td>Theft</td>\n",
       "      <td>victim's home</td>\n",
       "    </tr>\n",
       "    <tr>\n",
       "      <th>4</th>\n",
       "      <td>West</td>\n",
       "      <td>No</td>\n",
       "      <td>2014</td>\n",
       "      <td>3044.386</td>\n",
       "      <td>35-49</td>\n",
       "      <td>Male</td>\n",
       "      <td>&lt;7.5k</td>\n",
       "      <td>Theft</td>\n",
       "      <td>victim's home</td>\n",
       "    </tr>\n",
       "  </tbody>\n",
       "</table>\n",
       "</div>"
      ],
      "text/plain": [
       "  region file report  year     weight    age  gender     income  \\\n",
       "0   West         Yes  2014   2838.076  20-34  Female  25k-34.9k   \n",
       "1   West         Yes  2014   3188.369  50-64  Female       75k+   \n",
       "2   West          No  2014  3303.2144  35-49  Female       75k+   \n",
       "3   West         Yes  2014  3795.8252  20-34    Male  25k-34.9k   \n",
       "4   West          No  2014   3044.386  35-49    Male      <7.5k   \n",
       "\n",
       "             crime type                   location  \n",
       "0  Burglary/trespassing              victim's home  \n",
       "1                 Theft  com/parking lot or public  \n",
       "2                 Theft              victim's home  \n",
       "3                 Theft              victim's home  \n",
       "4                 Theft              victim's home  "
      ]
     },
     "execution_count": 98,
     "metadata": {},
     "output_type": "execute_result"
    }
   ],
   "source": [
    "#Replacing column numerical values into readdable data as pe rhte values assigned in the Household Crime  API\n",
    "\n",
    "ncvs_h['age_h'] = ncvs_h['age_h'].replace({\"1\":\"<19\",\n",
    "        \"2\":\"20-34\",\n",
    "        \"3\": \"35-49\",\n",
    "        \"4\": \"50-64\",\n",
    "        \"5\": \"65+\"})\n",
    "\n",
    "ncvs_h['gender_h'] = ncvs_h['gender_h'].replace({\"1\":\"Male\",\n",
    "        \"2\":\"Female\"})\n",
    "\n",
    "\n",
    "ncvs_h['region_h'] = ncvs_h['region_h'].replace({\"1\":\"Northeast\",\n",
    "        \"2\": \"Midwest\",\n",
    "        \"3\": \"South\",\n",
    "        \"4\": \"West\"})\n",
    "\n",
    "ncvs_h['notify_h'] = ncvs_h['notify_h'].replace({\"1\":\"Yes\",\n",
    "        \"2\": \"No\",\n",
    "        \"3\": \"Do not know\"})\n",
    "\n",
    "\n",
    "ncvs_h['hincome_h'] = ncvs_h['hincome_h'].replace({\"1\":\"<7.5k\",\n",
    "        \"2\": \"7.5k-14.9k\",\n",
    "        \"3\": \"15k-24.9k\",\n",
    "        \"4\": \"25k-34.9k\",\n",
    "        \"5\": \"35k-49.9k\",\n",
    "        \"6\": \"50k-74.9k\",\n",
    "        \"7\": \"75k+\",\n",
    "        \"88\": \"Unknown\"})\n",
    "\n",
    "ncvs_h['locationr_h'] = ncvs_h['locationr_h'].replace({\"1\":\"victim's home\",\n",
    "        \"2\": \" friend/neighbor/relative's home\",\n",
    "        \"3\": \"com/parking lot or public\",\n",
    "        \"4\": \"school\",\n",
    "        \"5\": \"other location\"})\n",
    "\n",
    "ncvs_h['newcrime_h'] = ncvs_h['newcrime_h'].replace({\"8\":\"Theft\",\n",
    "        \"7\": \"Motor-vehicle theft\",\n",
    "        \"6\": \"Burglary/trespassing\"})\n",
    "\n",
    "ncvs_h = ncvs_h.rename(columns = {'region_h': 'region', 'notify_h': 'file report',\n",
    "                       'year_h': 'year', 'weight_h': 'weight',\n",
    "                       'age_h': 'age', 'gender_h': 'gender',\n",
    "                       'hincome_h': 'income', 'newcrime_h':'crime type',\n",
    "                       'locationr_h': 'location'})\n",
    "\n",
    "ncvs_h.head()"
   ]
  },
  {
   "cell_type": "code",
   "execution_count": 100,
   "metadata": {},
   "outputs": [
    {
     "data": {
      "text/plain": [
       "Female    0.538201\n",
       "Male      0.461799\n",
       "Name: gender, dtype: float64"
      ]
     },
     "execution_count": 100,
     "metadata": {},
     "output_type": "execute_result"
    }
   ],
   "source": [
    "# ncvs_age = ncvs.iloc[:, 4:6]\n",
    "# ncvs_age['gender'].value_counts()\n",
    "ncvs['gender'].value_counts(normalize = True)\n",
    "# ncvs_age.head()"
   ]
  },
  {
   "cell_type": "code",
   "execution_count": 101,
   "metadata": {},
   "outputs": [
    {
     "data": {
      "text/plain": [
       "Female    0.534291\n",
       "Male      0.465709\n",
       "Name: gender, dtype: float64"
      ]
     },
     "execution_count": 101,
     "metadata": {},
     "output_type": "execute_result"
    }
   ],
   "source": [
    "# ncvs_hage = ncvs_h.iloc[:, 4:6]\n",
    "# ncvs_hage['gender'].value_counts()\n",
    "ncvs_h['gender'].value_counts(normalize = True)\n",
    "# ncvs_hage.head()"
   ]
  },
  {
   "cell_type": "code",
   "execution_count": 102,
   "metadata": {},
   "outputs": [
    {
     "data": {
      "image/png": "[encoded data removed]",
      "text/plain": [
       "<Figure size 432x288 with 1 Axes>"
      ]
     },
     "metadata": {},
     "output_type": "display_data"
    }
   ],
   "source": [
    "ncvs['gender'].value_counts(normalize = True).plot(kind = 'pie', title = 'Personal Crimes', legend = True)\n",
    "plt.tight_layout()\n",
    "plt.show()"
   ]
  },
  {
   "cell_type": "code",
   "execution_count": 103,
   "metadata": {},
   "outputs": [
    {
     "data": {
      "image/png": "[encoded data removed]",
      "text/plain": [
       "<Figure size 432x288 with 1 Axes>"
      ]
     },
     "metadata": {},
     "output_type": "display_data"
    }
   ],
   "source": [
    "ncvs_h['gender'].value_counts(normalize = True).plot(title = 'Household Crimes', kind = 'pie', legend = True)\n",
    "plt.tight_layout()\n",
    "plt.show()"
   ]
  },
  {
   "cell_type": "code",
   "execution_count": 104,
   "metadata": {},
   "outputs": [
    {
     "data": {
      "image/png": "[encoded data removed]",
      "text/plain": [
       "<Figure size 432x288 with 1 Axes>"
      ]
     },
     "metadata": {},
     "output_type": "display_data"
    }
   ],
   "source": [
    "ncvs['crime type'].value_counts(normalize = True).plot(title = 'Personal Crimes', kind = 'pie', legend = True)\n",
    "plt.tight_layout()\n",
    "plt.show()"
   ]
  },
  {
   "cell_type": "code",
   "execution_count": 105,
   "metadata": {},
   "outputs": [
    {
     "data": {
      "image/png": "[encoded data removed]",
      "text/plain": [
       "<Figure size 432x288 with 1 Axes>"
      ]
     },
     "metadata": {},
     "output_type": "display_data"
    }
   ],
   "source": [
    "ncvs_h['crime type'].value_counts(normalize = True).plot(title = 'Household Crimes', kind = 'pie', legend = True)\n",
    "plt.tight_layout()\n",
    "plt.show()\n"
   ]
  },
  {
   "cell_type": "code",
   "execution_count": 106,
   "metadata": {},
   "outputs": [
    {
     "data": {
      "image/png": "[encoded data removed]",
      "text/plain": [
       "<Figure size 432x288 with 1 Axes>"
      ]
     },
     "metadata": {},
     "output_type": "display_data"
    }
   ],
   "source": [
    "ncvs['location'].value_counts(normalize = True).plot(title = 'Personal Crimes', kind = 'pie', legend = True)\n",
    "plt.tight_layout()\n",
    "plt.show()"
   ]
  },
  {
   "cell_type": "code",
   "execution_count": 107,
   "metadata": {},
   "outputs": [
    {
     "data": {
      "image/png": "[encoded data removed]",
      "text/plain": [
       "<Figure size 432x288 with 1 Axes>"
      ]
     },
     "metadata": {},
     "output_type": "display_data"
    }
   ],
   "source": [
    "ncvs_h['location'].value_counts(normalize = True).plot(title = 'Personal Crimes', kind = 'pie', legend = True)\n",
    "plt.tight_layout()\n",
    "plt.show()"
   ]
  },
  {
   "cell_type": "code",
   "execution_count": 108,
   "metadata": {},
   "outputs": [
    {
     "data": {
      "text/html": [
       "<div>\n",
       "<style scoped>\n",
       "    .dataframe tbody tr th:only-of-type {\n",
       "        vertical-align: middle;\n",
       "    }\n",
       "\n",
       "    .dataframe tbody tr th {\n",
       "        vertical-align: top;\n",
       "    }\n",
       "\n",
       "    .dataframe thead th {\n",
       "        text-align: right;\n",
       "    }\n",
       "</style>\n",
       "<table border=\"1\" class=\"dataframe\">\n",
       "  <thead>\n",
       "    <tr style=\"text-align: right;\">\n",
       "      <th></th>\n",
       "      <th>region</th>\n",
       "      <th>file report</th>\n",
       "    </tr>\n",
       "  </thead>\n",
       "  <tbody>\n",
       "    <tr>\n",
       "      <th>0</th>\n",
       "      <td>West</td>\n",
       "      <td>Yes</td>\n",
       "    </tr>\n",
       "    <tr>\n",
       "      <th>1</th>\n",
       "      <td>West</td>\n",
       "      <td>Yes</td>\n",
       "    </tr>\n",
       "    <tr>\n",
       "      <th>2</th>\n",
       "      <td>West</td>\n",
       "      <td>No</td>\n",
       "    </tr>\n",
       "    <tr>\n",
       "      <th>3</th>\n",
       "      <td>West</td>\n",
       "      <td>Yes</td>\n",
       "    </tr>\n",
       "    <tr>\n",
       "      <th>4</th>\n",
       "      <td>West</td>\n",
       "      <td>No</td>\n",
       "    </tr>\n",
       "  </tbody>\n",
       "</table>\n",
       "</div>"
      ],
      "text/plain": [
       "  region file report\n",
       "0   West         Yes\n",
       "1   West         Yes\n",
       "2   West          No\n",
       "3   West         Yes\n",
       "4   West          No"
      ]
     },
     "execution_count": 108,
     "metadata": {},
     "output_type": "execute_result"
    }
   ],
   "source": [
    "#Analysing the number of crimes that were reported in household crimes dataset\n",
    "ncvsh_filtered=ncvs_h.drop(['year', 'weight', 'age', 'gender', 'income', 'crime type', 'location'], axis=1)\n",
    "ncvsh_filtered.head()\n",
    "\n",
    "\n",
    "\n",
    "\n",
    "\n",
    "\n"
   ]
  },
  {
   "cell_type": "code",
   "execution_count": 111,
   "metadata": {},
   "outputs": [
    {
     "data": {
      "text/plain": [
       "[region         12524\n",
       " file report    12524\n",
       " dtype: int64,\n",
       " region         23375\n",
       " file report    23375\n",
       " dtype: int64,\n",
       " region         341\n",
       " file report    341\n",
       " dtype: int64]"
      ]
     },
     "execution_count": 111,
     "metadata": {},
     "output_type": "execute_result"
    }
   ],
   "source": [
    "#getting the count of file rpeorts\n",
    "Reported=ncvsh_filtered[ncvsh_filtered['file report'].str.contains(\"Yes\")].count()\n",
    "Not_Reported=ncvsh_filtered[ncvsh_filtered['file report'].str.contains(\"No\")].count()\n",
    "Unknown=ncvsh_filtered[ncvsh_filtered['file report'].str.contains(\"Do not know\")].count()\n",
    "file_reports=[Reported, Not_Reported, Unknown]\n",
    "file_reports\n",
    "\n"
   ]
  },
  {
   "cell_type": "code",
   "execution_count": 115,
   "metadata": {},
   "outputs": [
    {
     "data": {
      "image/png": "[encoded data removed]",
      "text/plain": [
       "<Figure size 432x288 with 1 Axes>"
      ]
     },
     "metadata": {
      "needs_background": "light"
     },
     "output_type": "display_data"
    }
   ],
   "source": [
    "#plotting the bar chart\n",
    "cases=[12524,23375 ,341]\n",
    "x_axis=x_axis=np.arange(len(cases))\n",
    "tick_locations=x_axis.copy()\n",
    "plt.bar(x_axis, cases, color ='crimson', alpha=0.75, align='center', width=0.5 )\n",
    "plt.xticks(tick_locations, [\"Reported\", \"Not-Reported\", \"Unknown\"])\n",
    "plt.title('Household Crime Reports Analysis')\n",
    "plt.xlabel('Case Status')\n",
    "plt.ylabel('Number of Cases')\n",
    "plt.xlim(-0.75, len(x_axis)-0.25)\n",
    "plt.ylim(0,max(cases)+10000)\n",
    "plt.show()"
   ]
  },
  {
   "cell_type": "code",
   "execution_count": 116,
   "metadata": {},
   "outputs": [],
   "source": [
    "#Analysing the number of crimes that were reported in personal crimes dataset\n",
    "ncvsp_filtered=ncvs.drop(['year', 'weight', 'age', 'gender', 'income', 'crime type', 'location'], axis=1)\n",
    "\n"
   ]
  },
  {
   "cell_type": "code",
   "execution_count": 117,
   "metadata": {},
   "outputs": [
    {
     "data": {
      "text/plain": [
       "[region         4324\n",
       " file report    4324\n",
       " dtype: int64,\n",
       " region         4941\n",
       " file report    4941\n",
       " dtype: int64,\n",
       " region         132\n",
       " file report    132\n",
       " dtype: int64]"
      ]
     },
     "execution_count": 117,
     "metadata": {},
     "output_type": "execute_result"
    }
   ],
   "source": [
    "#getting the count of file rpeorts\n",
    "Reported=ncvsp_filtered[ncvsp_filtered['file report'].str.contains(\"Yes\")].count()\n",
    "Not_Reported=ncvsp_filtered[ncvsp_filtered['file report'].str.contains(\"No\")].count()\n",
    "Unknown=ncvsp_filtered[ncvsp_filtered['file report'].str.contains(\"Do not know\")].count()\n",
    "file_reports=[Reported, Not_Reported, Unknown]\n",
    "file_reports"
   ]
  },
  {
   "cell_type": "code",
   "execution_count": 118,
   "metadata": {},
   "outputs": [
    {
     "data": {
      "image/png": "[encoded data removed]",
      "text/plain": [
       "<Figure size 432x288 with 1 Axes>"
      ]
     },
     "metadata": {
      "needs_background": "light"
     },
     "output_type": "display_data"
    }
   ],
   "source": [
    "#plotting the bar chart for personal crimes\n",
    "cases_p=[12524,23375 ,341]\n",
    "x_axis=x_axis=np.arange(len(cases_p))\n",
    "tick_locations=x_axis.copy()\n",
    "plt.bar(x_axis, cases_p, color ='crimson', alpha=0.75, align='center', width=0.5 )\n",
    "plt.xticks(tick_locations, [\"Reported\", \"Not-Reported\", \"Unknown\"])\n",
    "plt.title('Personal Crime Reports Analysis')\n",
    "plt.xlabel('Case Status')\n",
    "plt.ylabel('Number of Cases')\n",
    "plt.xlim(-0.75, len(x_axis)-0.25)\n",
    "plt.ylim(0,max(cases_p)+10000)\n",
    "plt.show()"
   ]
  },
  {
   "cell_type": "code",
   "execution_count": null,
   "metadata": {},
   "outputs": [],
   "source": []
  }
 ],
 "metadata": {
  "kernelspec": {
   "display_name": "Python [conda env:PythonData] *",
   "language": "python",
   "name": "conda-env-PythonData-py"
  },
  "language_info": {
   "codemirror_mode": {
    "name": "ipython",
    "version": 3
   },
   "file_extension": ".py",
   "mimetype": "text/x-python",
   "name": "python",
   "nbconvert_exporter": "python",
   "pygments_lexer": "ipython3",
   "version": "3.6.10"
  }
 },
 "nbformat": 4,
 "nbformat_minor": 2
}
